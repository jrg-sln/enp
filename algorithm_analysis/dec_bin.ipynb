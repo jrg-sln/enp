{
 "cells": [
  {
   "cell_type": "markdown",
   "metadata": {},
   "source": [
    "# Convert a number from base 10 to base 2"
   ]
  },
  {
   "cell_type": "markdown",
   "metadata": {},
   "source": [
    "### Requerimientos\n",
    "\n",
    "Dado un número entero $n$ en base 10, transformarlo a binario.\n"
   ]
  },
  {
   "cell_type": "markdown",
   "metadata": {},
   "source": [
    "### Análisis\n",
    "\n",
    "**Entrada:** un número entero $n$ en base 10.\n",
    "\n",
    "**Salida:** cadena binaria del número $n$.\n"
   ]
  },
  {
   "cell_type": "markdown",
   "metadata": {},
   "source": [
    "### Diseño\n",
    "\n",
    "~~~\n",
    "FUNCTION dec2bin (INTEGER: n) RETURN STRING:\n",
    "    bin = ''                    # c1\n",
    "    while (n>0):                # c2 * (log(n)+1)\n",
    "        bin.insert(0, n%2)      # c3 * log(n)\n",
    "        n = n // 2               # c4 * log(n)\n",
    "    return bin                  # c5\n",
    "END FUNCTION\n",
    "~~~\n",
    "f(n) = c1 + c2*log(n) + c2 + c3*log(n) + c4*log(n) + c5\n",
    "\n",
    "f(n) = (c2+c3+c4)*log(n) + (c1+c2+c5)\n",
    "\n",
    "f(n) = O(log(n))"
   ]
  },
  {
   "cell_type": "code",
   "execution_count": null,
   "metadata": {},
   "outputs": [],
   "source": [
    "'''\n",
    "    input: an integer number base 10\n",
    "    output: a binary string\n",
    "    descripción: converts number 10 from base 10 to base 2\n",
    "'''\n",
    "def dec2bin(intN):\n",
    "    bin = ''\n",
    "    while intN>0:\n",
    "        bin = bin + str(intN%2)\n",
    "        intN //= 2\n",
    "    return bin"
   ]
  },
  {
   "cell_type": "code",
   "execution_count": null,
   "metadata": {
    "collapsed": true
   },
   "outputs": [],
   "source": [
    "n = 100\n",
    "res = dec2bin(n)\n",
    "print(str(n) + '[10] -> ' + res[::-1] + '[2]')"
   ]
  },
  {
   "cell_type": "code",
   "execution_count": null,
   "metadata": {},
   "outputs": [],
   "source": [
    "%pylab inline\n",
    "import matplotlib.pyplot as plt"
   ]
  },
  {
   "cell_type": "code",
   "execution_count": null,
   "metadata": {
    "collapsed": true
   },
   "outputs": [],
   "source": [
    "def dec2bin_graph(intN):\n",
    "    times = 0\n",
    "    bin = ''\n",
    "    while intN>0:\n",
    "        times += 1\n",
    "        bin = bin + str(intN%2)\n",
    "        intN //= 2\n",
    "    return times"
   ]
  },
  {
   "cell_type": "code",
   "execution_count": null,
   "metadata": {},
   "outputs": [],
   "source": [
    "x = []\n",
    "y = []\n",
    "\n",
    "i = 1\n",
    "while i < 100000:\n",
    "    x.append(i)\n",
    "    y.append(dec2bin_graph(i))\n",
    "    i += 0.1\n",
    "\n",
    "#print(x)\n",
    "#print(y)"
   ]
  },
  {
   "cell_type": "code",
   "execution_count": null,
   "metadata": {},
   "outputs": [],
   "source": [
    "fig, ax = plt.subplots(facecolor='w', edgecolor='k')\n",
    "ax.plot(x, y, marker=\"o\",color=\"b\", linestyle='None')\n",
    "ax.set_xlabel('x')\n",
    "ax.set_ylabel('y')\n",
    "ax.grid(True)\n",
    "ax.legend([\"Convertion\"])\n",
    "plt.title('Base 10 to base 2')\n",
    "plt.show()"
   ]
  }
 ],
 "metadata": {
  "anaconda-cloud": {},
  "kernelspec": {
   "display_name": "Python 3",
   "language": "python",
   "name": "python3"
  },
  "language_info": {
   "codemirror_mode": {
    "name": "ipython",
    "version": 3
   },
   "file_extension": ".py",
   "mimetype": "text/x-python",
   "name": "python",
   "nbconvert_exporter": "python",
   "pygments_lexer": "ipython3",
   "version": "3.8.8"
  }
 },
 "nbformat": 4,
 "nbformat_minor": 1
}

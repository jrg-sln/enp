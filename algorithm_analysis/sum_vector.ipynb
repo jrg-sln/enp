{
 "cells": [
  {
   "cell_type": "markdown",
   "metadata": {},
   "source": [
    "# Suma de los elementos de un conjunto"
   ]
  },
  {
   "cell_type": "markdown",
   "metadata": {},
   "source": [
    "### Requerimientos\n",
    "\n",
    "Dado un conjunto $c$ de $n$ elementos enteros $[e_1, \\cdots e_n]$, obtener la suma de todos los elementos, es decir, $suma = e_1 + \\cdots + e_n$.\n"
   ]
  },
  {
   "cell_type": "markdown",
   "metadata": {},
   "source": [
    "### Análisis\n",
    "\n",
    "**Entrada:** un conjunto $c$ de $n$ elementos enteros $[e_1, \\cdots e_n]$.\n",
    "\n",
    "**Salida:** un número entero $suma$ que contenga la suma de todos los $n$ elementos del conjunto $c$.\n"
   ]
  },
  {
   "cell_type": "markdown",
   "metadata": {},
   "source": [
    "### Diseño\n",
    "\n",
    "~~~\n",
    "FUNCTION sumar_conjunto (INTEGER: c[]) RETURN INTEGER:\n",
    "    INTEGER i = 0, suma = 0     # c1\n",
    "    while i < len(c):           # c2 * (n + 1)\n",
    "        suma = suma + c[i]      # c3 * n\n",
    "        i = i+1                 # c4 * n\n",
    "    return suma                 # c5\n",
    "END FUNCTION\n",
    "~~~\n",
    "f(n) = c1 + c2 * (n + 1) + c3 * n + c4 * n + c5\n",
    "\n",
    "f(n) = (c2+c3+c4)*n + (c1+c2+c5)\n",
    "\n",
    "f(n) = a*n + b\n",
    "\n",
    "f(n) = O(n)"
   ]
  },
  {
   "cell_type": "code",
   "execution_count": null,
   "metadata": {},
   "outputs": [],
   "source": [
    "'''\n",
    "    input: un conjunto $c$ de $n$ elementos enteros $[e_1, \\cdots e_n]$.\n",
    "    output: un número entero $suma$ que contenga la suma de todos los $n$ elementos del conjunto $c$.\n",
    "    descripción: sumar todos los elementos del conjunto $c$ y regresar el valor de la suma\n",
    "'''\n",
    "def vector_sum(conjunto):\n",
    "    i = 0\n",
    "    suma = 0\n",
    "    while i < len(conjunto):\n",
    "        suma += conjunto[i]\n",
    "        i += 1\n",
    "        \n",
    "    return suma"
   ]
  },
  {
   "cell_type": "code",
   "execution_count": null,
   "metadata": {
    "collapsed": true
   },
   "outputs": [],
   "source": [
    "c = [2, 3, 6, 9, 10, 22]\n",
    "print(c)\n",
    "print('La suma del conjunto es: ', vector_sum(c))"
   ]
  },
  {
   "cell_type": "code",
   "execution_count": null,
   "metadata": {},
   "outputs": [],
   "source": [
    "%pylab inline\n",
    "import matplotlib.pyplot as plt\n",
    "import random"
   ]
  },
  {
   "cell_type": "code",
   "execution_count": null,
   "metadata": {
    "collapsed": true
   },
   "outputs": [],
   "source": [
    "def vector_sum_graph(conjunto):\n",
    "    times = 0\n",
    "    i = 0\n",
    "    suma = 0\n",
    "    while i < len(conjunto):\n",
    "        times += 1\n",
    "        suma += conjunto[i]\n",
    "        i += 1\n",
    "        \n",
    "    return times"
   ]
  },
  {
   "cell_type": "code",
   "execution_count": null,
   "metadata": {},
   "outputs": [],
   "source": [
    "x = []\n",
    "y = []\n",
    "c = []\n",
    "\n",
    "for i in range(1, 1001):\n",
    "    c.append(random.randint(1, 25000))\n",
    "    x.append(i)\n",
    "    y.append(vector_sum_graph(c))\n",
    "\n",
    "#print(x)\n",
    "#print(y)"
   ]
  },
  {
   "cell_type": "code",
   "execution_count": null,
   "metadata": {},
   "outputs": [],
   "source": [
    "fig, ax = plt.subplots(facecolor='w', edgecolor='k')\n",
    "ax.plot(x, y, marker=\"o\",color=\"b\", linestyle='None')\n",
    "ax.set_xlabel('x')\n",
    "ax.set_ylabel('y')\n",
    "ax.grid(True)\n",
    "ax.legend([\"Sum\"])\n",
    "plt.title('Vector sum')\n",
    "plt.show()"
   ]
  }
 ],
 "metadata": {
  "anaconda-cloud": {},
  "kernelspec": {
   "display_name": "Python 3",
   "language": "python",
   "name": "python3"
  },
  "language_info": {
   "codemirror_mode": {
    "name": "ipython",
    "version": 3
   },
   "file_extension": ".py",
   "mimetype": "text/x-python",
   "name": "python",
   "nbconvert_exporter": "python",
   "pygments_lexer": "ipython3",
   "version": "3.8.8"
  }
 },
 "nbformat": 4,
 "nbformat_minor": 1
}

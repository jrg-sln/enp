{
 "cells": [
  {
   "cell_type": "markdown",
   "metadata": {},
   "source": [
    "# Determinar si un número es par o impar"
   ]
  },
  {
   "cell_type": "markdown",
   "metadata": {},
   "source": [
    "### Requerimientos\n",
    "\n",
    "Dado un número entero $n$ determinar si el número es par o impar. Si es par regresar 0, si es impar regresar 1.\n"
   ]
  },
  {
   "cell_type": "markdown",
   "metadata": {},
   "source": [
    "### Análisis\n",
    "\n",
    "**Entrada:** un número entero $n$.\n",
    "\n",
    "**Salida:** un número entero $bit$, si $n$ es par $bit = 0$, si $n$ es impar $bit=1$.\n"
   ]
  },
  {
   "cell_type": "markdown",
   "metadata": {},
   "source": [
    "### Diseño\n",
    "\n",
    "~~~\n",
    "FUNCTION odd_even (INTEGER: n) RETURN INTEGER:\n",
    "    INTEGER bit         # c1\n",
    "    if (n % 2 == 0)     # c2\n",
    "        bit = 0         # c3\n",
    "    else\n",
    "        bit = 1         # c4\n",
    "    return bit          # c5\n",
    "END FUNCTION\n",
    "~~~\n",
    "f(n) = c1 + c2 + c3 + c4 + c5\n",
    "\n",
    "f(n) = c\n",
    "\n",
    "f(n) = O(1)"
   ]
  },
  {
   "cell_type": "code",
   "execution_count": null,
   "metadata": {},
   "outputs": [],
   "source": [
    "'''\n",
    "    input: an integer number\n",
    "    output: an integer number\n",
    "    descripción: given an integer number $n$ \n",
    "        - return 0 if $n$ is even; or\n",
    "        - return 1 if $n$ is odd:\n",
    "'''\n",
    "def odd_even(intN):\n",
    "    bit = 0\n",
    "    if intN%2 == 0:\n",
    "        bit = 0\n",
    "    else:\n",
    "        bit = 1\n",
    "    \n",
    "    return bit"
   ]
  },
  {
   "cell_type": "code",
   "execution_count": null,
   "metadata": {
    "collapsed": true
   },
   "outputs": [],
   "source": [
    "n = 5\n",
    "print(str(n) + ' is ' + ('even' if odd_even(n)==0 else 'odd'))"
   ]
  },
  {
   "cell_type": "code",
   "execution_count": null,
   "metadata": {},
   "outputs": [],
   "source": [
    "%pylab inline\n",
    "import matplotlib.pyplot as plt"
   ]
  },
  {
   "cell_type": "code",
   "execution_count": null,
   "metadata": {
    "collapsed": true
   },
   "outputs": [],
   "source": [
    "def odd_even_graph(intN):\n",
    "    times = 0\n",
    "    bit = 0\n",
    "    if intN%2 == 0:\n",
    "        times += 1\n",
    "        bit = 0\n",
    "    else:\n",
    "        times += 1\n",
    "        bit = 1\n",
    "    \n",
    "    return times"
   ]
  },
  {
   "cell_type": "code",
   "execution_count": null,
   "metadata": {},
   "outputs": [],
   "source": [
    "x = []\n",
    "y = []\n",
    "\n",
    "for i in range(1, 1000001):\n",
    "    x.append(i)\n",
    "    y.append(odd_even_graph(i))\n",
    "\n",
    "#print(x)\n",
    "#print(y)"
   ]
  },
  {
   "cell_type": "code",
   "execution_count": null,
   "metadata": {},
   "outputs": [],
   "source": [
    "fig, ax = plt.subplots(facecolor='w', edgecolor='k')\n",
    "ax.plot(x, y, marker=\"o\",color=\"b\", linestyle='None')\n",
    "ax.set_xlabel('x')\n",
    "ax.set_ylabel('y')\n",
    "ax.grid(True)\n",
    "ax.legend([\"validate\"])\n",
    "plt.title('odd or even')\n",
    "plt.show()"
   ]
  }
 ],
 "metadata": {
  "anaconda-cloud": {},
  "kernelspec": {
   "display_name": "Python 3",
   "language": "python",
   "name": "python3"
  },
  "language_info": {
   "codemirror_mode": {
    "name": "ipython",
    "version": 3
   },
   "file_extension": ".py",
   "mimetype": "text/x-python",
   "name": "python",
   "nbconvert_exporter": "python",
   "pygments_lexer": "ipython3",
   "version": "3.8.8"
  }
 },
 "nbformat": 4,
 "nbformat_minor": 1
}

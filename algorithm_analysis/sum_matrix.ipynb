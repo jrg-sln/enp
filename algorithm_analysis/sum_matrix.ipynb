{
 "cells": [
  {
   "cell_type": "markdown",
   "metadata": {},
   "source": [
    "# Suma de matrices"
   ]
  },
  {
   "cell_type": "markdown",
   "metadata": {},
   "source": [
    "### Requerimientos\n",
    "\n",
    "Dadas dos matrices de enteros $A$ y $B$ de tamaño $nxn$, obtener la matriz resultante $C = A + B$.\n"
   ]
  },
  {
   "cell_type": "markdown",
   "metadata": {},
   "source": [
    "### Análisis\n",
    "\n",
    "**Entrada:** dos matrices de enteros $A$ y $B$ de tamaño $nxn$.\n",
    "\n",
    "**Salida:** una matriz $C$ tal que $C = A + B$.\n"
   ]
  },
  {
   "cell_type": "markdown",
   "metadata": {},
   "source": [
    "### Diseño\n",
    "\n",
    "~~~\n",
    "FUNCTION sumar_matrices (INTEGER: A[], INTEGER: B[]) RETURN INTEGER C[]:\n",
    "    INTEGER ren=0, col                                  # c1\n",
    "    while ren < len(A):                                 # c2*(n+1)\n",
    "        col = 0                                         # c3*(n)\n",
    "        while col < len(A[ren]):                        # c4*(n)*(n+1)\n",
    "            A[ren][col] = A[ren][col] + B[ren][col]     # c5*(n)*(n)\n",
    "            col = col + 1                               # c6*(n)*(n)\n",
    "        ren = ren + 1                                   # c7*(n)\n",
    "    return A                                            # c8\n",
    "END FUNCTION\n",
    "~~~\n",
    "f(n) = c1 + c2*n + c2 + c3*n + c4*n^2 + c4*n + c5*n^2 +c6*n^2 + c7*n +c8\n",
    "\n",
    "f(n) = (c4+c5+c6)*n^2 + (c2+c3+c7)*n + (c1+c2+c8)\n",
    "\n",
    "f(n) = a*n^2 + b*n + c\n",
    "\n",
    "f(n) = O(n^2)"
   ]
  },
  {
   "cell_type": "code",
   "execution_count": null,
   "metadata": {},
   "outputs": [],
   "source": [
    "'''\n",
    "    input: two matrix A, B, size nxn\n",
    "    output: a matrix C, size nxn\n",
    "    descripción: return de operation C = A + B\n",
    "'''\n",
    "def sum_matrix(matA, matB):\n",
    "    ren = 0\n",
    "    col = 0\n",
    "    while ren < len(matA):\n",
    "        col = 0\n",
    "        while col < len(matA[ren]):\n",
    "            matA[ren][col] += matB[ren][col]\n",
    "            col += 1\n",
    "        ren += 1\n",
    "        \n",
    "    return matA"
   ]
  },
  {
   "cell_type": "code",
   "execution_count": null,
   "metadata": {
    "collapsed": true
   },
   "outputs": [],
   "source": [
    "A = [[1, 2, 3, 4],\n",
    "     [5, 6, 7, 8],\n",
    "     [9, 10, 11, 12],\n",
    "     [13, 14, 15, 16]]\n",
    "B = [[16, 15, 14, 13],\n",
    "     [12, 11, 10, 9],\n",
    "     [8, 7, 6, 5],\n",
    "     [4, 3, 2, 1]]\n",
    "\n",
    "print(sum_matrix(A, B))"
   ]
  },
  {
   "cell_type": "code",
   "execution_count": null,
   "metadata": {},
   "outputs": [],
   "source": [
    "%pylab inline\n",
    "import matplotlib.pyplot as plt\n",
    "import numpy as np"
   ]
  },
  {
   "cell_type": "code",
   "execution_count": null,
   "metadata": {
    "collapsed": true
   },
   "outputs": [],
   "source": [
    "def sum_matrix_graph(matA, matB):\n",
    "    times = 0\n",
    "    ren = 0\n",
    "    col = 0\n",
    "    while ren < len(matA):\n",
    "        times += 1\n",
    "        col = 0\n",
    "        while col < len(matA[ren]):\n",
    "            times += 1\n",
    "            matA[ren][col] += matB[ren][col]\n",
    "            col += 1\n",
    "        ren += 1\n",
    "        \n",
    "    return times"
   ]
  },
  {
   "cell_type": "code",
   "execution_count": null,
   "metadata": {},
   "outputs": [],
   "source": [
    "x = []\n",
    "y = []\n",
    "A = []\n",
    "B = []\n",
    "\n",
    "for i in range(2, 401):\n",
    "    A = np.random.random((i,i))\n",
    "    B = np.random.random((i,i))\n",
    "    x.append(i)\n",
    "    y.append(sum_matrix_graph(A, B))\n",
    "\n",
    "#print(x)\n",
    "#print(y)"
   ]
  },
  {
   "cell_type": "code",
   "execution_count": null,
   "metadata": {},
   "outputs": [],
   "source": [
    "fig, ax = plt.subplots(facecolor='w', edgecolor='k')\n",
    "ax.plot(x, y, marker=\"o\",color=\"b\", linestyle='None')\n",
    "ax.set_xlabel('x')\n",
    "ax.set_ylabel('y')\n",
    "ax.grid(True)\n",
    "ax.legend([\"Matrix\"])\n",
    "plt.title('Matrix sum')\n",
    "plt.show()"
   ]
  }
 ],
 "metadata": {
  "anaconda-cloud": {},
  "kernelspec": {
   "display_name": "Python 3",
   "language": "python",
   "name": "python3"
  },
  "language_info": {
   "codemirror_mode": {
    "name": "ipython",
    "version": 3
   },
   "file_extension": ".py",
   "mimetype": "text/x-python",
   "name": "python",
   "nbconvert_exporter": "python",
   "pygments_lexer": "ipython3",
   "version": "3.8.8"
  }
 },
 "nbformat": 4,
 "nbformat_minor": 1
}
